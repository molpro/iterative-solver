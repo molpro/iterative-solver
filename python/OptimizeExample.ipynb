{
 "cells": [
  {
   "cell_type": "code",
   "id": "initial_id",
   "metadata": {
    "collapsed": true,
    "ExecuteTime": {
     "end_time": "2024-10-02T06:47:01.450675Z",
     "start_time": "2024-10-02T06:47:01.393576Z"
    }
   },
   "source": [
    "import iterative_solver\n",
    "import numpy as np"
   ],
   "outputs": [],
   "execution_count": 1
  },
  {
   "metadata": {},
   "cell_type": "markdown",
   "source": [
    "\n",
    "  Objective function is (1/2) * c . m . c - sum(c)  where m(i,j) = 1 + (3*i+2)*delta(i,j)\n",
    "\n"
   ],
   "id": "98f93efa5b6ef3b0"
  },
  {
   "metadata": {
    "ExecuteTime": {
     "end_time": "2024-10-02T06:47:01.454257Z",
     "start_time": "2024-10-02T06:47:01.451523Z"
    }
   },
   "cell_type": "code",
   "source": [
    "class forced(iterative_solver.Problem):\n",
    "    def residual(self, parameters, residual):\n",
    "        for i in range(len(residual)):\n",
    "            residual[i] = -1 + (3 * i + 2) * parameters[i] + np.sum(parameters)\n",
    "        e = 0.5 * np.dot(residual, parameters) - 0.5 * np.sum(parameters)\n",
    "        return e\n",
    "\n",
    "    def diagonals(self, diagonals):\n",
    "        for i in range(len(diagonals)):\n",
    "            diagonals[i] = 3 * i + 2\n",
    "        return True"
   ],
   "id": "9be3fd1d4a663f42",
   "outputs": [],
   "execution_count": 2
  },
  {
   "metadata": {
    "ExecuteTime": {
     "end_time": "2024-10-02T06:47:01.470627Z",
     "start_time": "2024-10-02T06:47:01.454920Z"
    }
   },
   "cell_type": "code",
   "source": [
    "problem = forced()\n",
    "n = 5\n",
    "parameters = np.zeros(n)\n",
    "parameters[0] = 1\n",
    "residual = np.zeros(n)\n",
    "\n",
    "solver = iterative_solver.Optimize(parameters.size, verbosity=2)\n",
    "solver.solve(parameters, residual, problem)\n",
    "solver.solution([0], parameters, residual)"
   ],
   "id": "a53697229c71746d",
   "outputs": [
    {
     "name": "stdout",
     "output_type": "stream",
     "text": [
      "Iteration 1 log10(|residual|)= [0.30103]\n",
      "Objective function value 0.5\n",
      "Iteration 2 log10(|residual|)= [0.349485]\n",
      "Objective function value -5.107025913275681e-15\n",
      "Iteration 3 log10(|residual|)= [-0.36332255]\n",
      "Objective function value -0.2397790364998158\n",
      "Iteration 4 log10(|residual|)= [-1.47057565]\n",
      "Objective function value -0.24826579515298963\n",
      "Iteration 5 log10(|residual|)= [-2.80698919]\n",
      "Objective function value -0.24840687865108843\n",
      "Iteration 6 log10(|residual|)= [-4.15057029]\n",
      "Objective function value -0.24840712279938615\n",
      "Iteration 7 log10(|residual|)= [-6.18569068]\n",
      "Objective function value -0.2484071230190934\n",
      "Iteration 8 log10(|residual|)= [-8.5435261]\n",
      "Objective function value -0.24840712301911452\n",
      "Converged log10(|residual|)= [-11.10538056]\n",
      "Objective function value -0.24840712301911452\n"
     ]
    },
    {
     "data": {
      "text/plain": [
       "-0.24840712301911452"
      ]
     },
     "execution_count": 3,
     "metadata": {},
     "output_type": "execute_result"
    }
   ],
   "execution_count": 3
  },
  {
   "metadata": {
    "ExecuteTime": {
     "end_time": "2024-10-02T06:47:01.474194Z",
     "start_time": "2024-10-02T06:47:01.471967Z"
    }
   },
   "cell_type": "code",
   "source": [
    "e = problem.residual(parameters, residual)\n",
    "print(parameters)\n",
    "print(residual)\n",
    "print(e)"
   ],
   "id": "850a5b693733ecb7",
   "outputs": [
    {
     "name": "stdout",
     "output_type": "stream",
     "text": [
      "[0.25159288 0.10063715 0.06289822 0.04574416 0.03594184]\n",
      "[5.93908256e-12 2.56311639e-12 2.56311639e-12 2.56322741e-12\n",
      " 2.56311639e-12]\n",
      "-0.24840712301911452\n"
     ]
    }
   ],
   "execution_count": 4
  },
  {
   "metadata": {
    "ExecuteTime": {
     "end_time": "2024-10-02T06:47:01.482032Z",
     "start_time": "2024-10-02T06:47:01.474827Z"
    }
   },
   "cell_type": "code",
   "source": [
    "parameters = np.zeros(n)\n",
    "parameters[0] = 1\n",
    "solver = iterative_solver.Solve_Optimization(parameters, residual, problem, verbosity=2, generate_initial_guess=False)"
   ],
   "id": "c355ddedc9fdcd00",
   "outputs": [
    {
     "name": "stdout",
     "output_type": "stream",
     "text": [
      "Iteration 1 log10(|residual|)= [0.30103]\n",
      "Objective function value 0.5\n",
      "Iteration 2 log10(|residual|)= [0.349485]\n",
      "Objective function value -5.107025913275681e-15\n",
      "Iteration 3 log10(|residual|)= [-0.36332255]\n",
      "Objective function value -0.2397790364998158\n",
      "Iteration 4 log10(|residual|)= [-1.47057565]\n",
      "Objective function value -0.24826579515298963\n",
      "Iteration 5 log10(|residual|)= [-2.80698919]\n",
      "Objective function value -0.24840687865108843\n",
      "Iteration 6 log10(|residual|)= [-4.15057029]\n",
      "Objective function value -0.24840712279938615\n",
      "Iteration 7 log10(|residual|)= [-6.18569068]\n",
      "Objective function value -0.2484071230190934\n",
      "Iteration 8 log10(|residual|)= [-8.5435261]\n",
      "Objective function value -0.24840712301911452\n",
      "Converged log10(|residual|)= [-11.10538056]\n",
      "Objective function value -0.24840712301911452\n"
     ]
    }
   ],
   "execution_count": 5
  },
  {
   "metadata": {
    "ExecuteTime": {
     "end_time": "2024-10-02T06:47:01.492005Z",
     "start_time": "2024-10-02T06:47:01.489654Z"
    }
   },
   "cell_type": "code",
   "source": "solver.converged",
   "id": "8b3301192e1455fa",
   "outputs": [
    {
     "data": {
      "text/plain": [
       "True"
      ]
     },
     "execution_count": 7,
     "metadata": {},
     "output_type": "execute_result"
    }
   ],
   "execution_count": 7
  }
 ],
 "metadata": {
  "kernelspec": {
   "display_name": "Python 3",
   "language": "python",
   "name": "python3"
  },
  "language_info": {
   "codemirror_mode": {
    "name": "ipython",
    "version": 2
   },
   "file_extension": ".py",
   "mimetype": "text/x-python",
   "name": "python",
   "nbconvert_exporter": "python",
   "pygments_lexer": "ipython2",
   "version": "2.7.6"
  }
 },
 "nbformat": 4,
 "nbformat_minor": 5
}
