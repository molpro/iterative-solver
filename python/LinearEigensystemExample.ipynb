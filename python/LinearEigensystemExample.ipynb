{
 "cells": [
  {
   "cell_type": "code",
   "id": "initial_id",
   "metadata": {
    "collapsed": true,
    "ExecuteTime": {
     "end_time": "2024-10-02T08:57:39.841653Z",
     "start_time": "2024-10-02T08:57:39.789205Z"
    }
   },
   "source": [
    "import iterative_solver\n",
    "import numpy as np"
   ],
   "outputs": [],
   "execution_count": 1
  },
  {
   "metadata": {
    "ExecuteTime": {
     "end_time": "2024-10-02T08:57:39.845053Z",
     "start_time": "2024-10-02T08:57:39.842817Z"
    }
   },
   "cell_type": "code",
   "source": [
    "n = 3\n",
    "nroot = 1\n",
    "m = np.array([[1 if i != j else 3 * (n - i) for i in range(n)] for j in range(n)])"
   ],
   "id": "3fcf3624b2a23bb7",
   "outputs": [],
   "execution_count": 2
  },
  {
   "metadata": {
    "ExecuteTime": {
     "end_time": "2024-10-02T08:57:39.848051Z",
     "start_time": "2024-10-02T08:57:39.845866Z"
    }
   },
   "cell_type": "code",
   "source": [
    "def solve(m, nP, max_p, nroot):\n",
    "    problem = iterative_solver.MatrixProblem()\n",
    "    problem.attach(m)\n",
    "    problem.p_space.add_simple(range(nP))\n",
    "    c = np.empty((nroot, m.shape[0]), dtype=float)\n",
    "    g = np.empty((nroot, m.shape[0]), dtype=float)\n",
    "    iterative_solver.Solve_Linear_Eigensystem(c, g, problem, nroot, verbosity=2, thresh=1e-8, hermitian=True,\n",
    "                                              max_p=max_p)\n"
   ],
   "id": "9b060f11e5eb3d5d",
   "outputs": [],
   "execution_count": 3
  },
  {
   "metadata": {
    "ExecuteTime": {
     "end_time": "2024-10-02T08:57:39.857761Z",
     "start_time": "2024-10-02T08:57:39.848624Z"
    }
   },
   "cell_type": "code",
   "source": [
    "for nP in range(0, 50, 50):\n",
    "    for max_p in range(0, 50, 50):\n",
    "        if max_p > 0 and nP > 0: continue\n",
    "        print('Explicit P-space =', nP, ', auto P-Space =', max_p, ', dimension =', m.shape[0], ', roots =', nroot)\n",
    "        solve(m,nP,max_p,nroot)\n"
   ],
   "id": "a53697229c71746d",
   "outputs": [
    {
     "name": "stdout",
     "output_type": "stream",
     "text": [
      "Explicit P-space = 0 , auto P-Space = 0 , dimension = 3 , roots = 1\n",
      "verbosity 2\n",
      "thresh 1e-08\n",
      "hermitian True\n",
      "Converged log10(|residual|)= [0.55697168]\n",
      "Eigenvalues [1.79769313e+308]\n",
      "Warn: parameter's length is too small for normalisation, dot = 0.000000e+00\n"
     ]
    }
   ],
   "execution_count": 4
  },
  {
   "metadata": {
    "ExecuteTime": {
     "end_time": "2024-10-02T08:57:39.862283Z",
     "start_time": "2024-10-02T08:57:39.859025Z"
    }
   },
   "cell_type": "code",
   "source": "m",
   "id": "eb094fe6374a736a",
   "outputs": [
    {
     "data": {
      "text/plain": [
       "array([[9, 1, 1],\n",
       "       [1, 6, 1],\n",
       "       [1, 1, 3]])"
      ]
     },
     "execution_count": 5,
     "metadata": {},
     "output_type": "execute_result"
    }
   ],
   "execution_count": 5
  },
  {
   "metadata": {
    "ExecuteTime": {
     "end_time": "2024-10-02T08:57:39.864165Z",
     "start_time": "2024-10-02T08:57:39.862915Z"
    }
   },
   "cell_type": "code",
   "source": "",
   "id": "1f7333c674615f0",
   "outputs": [],
   "execution_count": 5
  }
 ],
 "metadata": {
  "kernelspec": {
   "display_name": "Python 3",
   "language": "python",
   "name": "python3"
  },
  "language_info": {
   "codemirror_mode": {
    "name": "ipython",
    "version": 2
   },
   "file_extension": ".py",
   "mimetype": "text/x-python",
   "name": "python",
   "nbconvert_exporter": "python",
   "pygments_lexer": "ipython2",
   "version": "2.7.6"
  }
 },
 "nbformat": 4,
 "nbformat_minor": 5
}
