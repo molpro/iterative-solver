{
 "cells": [
  {
   "cell_type": "code",
   "id": "initial_id",
   "metadata": {
    "collapsed": true,
    "ExecuteTime": {
     "end_time": "2024-05-17T05:06:34.213745Z",
     "start_time": "2024-05-17T05:06:34.003071Z"
    }
   },
   "source": [
    "import iterative_solver\n",
    "import numpy as np"
   ],
   "execution_count": 1,
   "outputs": []
  },
  {
   "metadata": {},
   "cell_type": "markdown",
   "source": [
    "\n",
    "  Objective function is (1/2) * c . m . c - sum(c)  where m(i,j) = 1 + (3*i+2)*delta(i,j)\n",
    "\n"
   ],
   "id": "98f93efa5b6ef3b0"
  },
  {
   "metadata": {
    "ExecuteTime": {
     "end_time": "2024-05-17T05:06:34.225521Z",
     "start_time": "2024-05-17T05:06:34.219432Z"
    }
   },
   "cell_type": "code",
   "source": [
    "class forced(iterative_solver.Problem):\n",
    "    def residual(self, parameters, residual):\n",
    "        for i in range(len(residual)):\n",
    "            residual[i] = -1 + (3 * i + 2) * parameters[i] + np.sum(parameters)\n",
    "        e = 0.5 * np.dot(residual, parameters) - 0.5 * np.sum(parameters)\n",
    "        return e\n",
    "\n",
    "    def diagonals(self, diagonals):\n",
    "        for i in range(len(diagonals)):\n",
    "            diagonals[i] = 3 * i + 2\n",
    "        return True"
   ],
   "id": "9be3fd1d4a663f42",
   "execution_count": 2,
   "outputs": []
  },
  {
   "metadata": {
    "ExecuteTime": {
     "end_time": "2024-05-17T05:06:34.435362Z",
     "start_time": "2024-05-17T05:06:34.228299Z"
    }
   },
   "cell_type": "code",
   "source": [
    "problem = forced()\n",
    "n = 5\n",
    "parameters = np.zeros(n)\n",
    "parameters[0] = 1\n",
    "residual = np.zeros(n)\n",
    "\n",
    "solver = iterative_solver.Optimize(parameters.size, verbosity=2)\n",
    "solver.solve(parameters, residual, problem)\n",
    "solver.solution([0], parameters, residual)"
   ],
   "id": "a53697229c71746d",
   "execution_count": 3,
   "outputs": []
  },
  {
   "metadata": {
    "ExecuteTime": {
     "end_time": "2024-05-17T05:06:34.439091Z",
     "start_time": "2024-05-17T05:06:34.436555Z"
    }
   },
   "cell_type": "code",
   "source": [
    "e = problem.residual(parameters, residual)\n",
    "print(parameters)\n",
    "print(residual)\n",
    "print(e)"
   ],
   "id": "850a5b693733ecb7",
   "execution_count": 4,
   "outputs": []
  }
 ],
 "metadata": {
  "kernelspec": {
   "display_name": "Python 3",
   "language": "python",
   "name": "python3"
  },
  "language_info": {
   "codemirror_mode": {
    "name": "ipython",
    "version": 2
   },
   "file_extension": ".py",
   "mimetype": "text/x-python",
   "name": "python",
   "nbconvert_exporter": "python",
   "pygments_lexer": "ipython2",
   "version": "2.7.6"
  }
 },
 "nbformat": 4,
 "nbformat_minor": 5
}
