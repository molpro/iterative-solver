{
 "cells": [
  {
   "cell_type": "code",
   "id": "initial_id",
   "metadata": {
    "collapsed": true,
    "ExecuteTime": {
     "end_time": "2024-05-17T05:06:34.213745Z",
     "start_time": "2024-05-17T05:06:34.003071Z"
    }
   },
   "source": [
    "import iterative_solver\n",
    "import numpy as np"
   ],
   "outputs": [],
   "execution_count": 1
  },
  {
   "metadata": {},
   "cell_type": "markdown",
   "source": [
    "\n",
    "  Objective function is (1/2) * c . m . c - sum(c)  where m(i,j) = 1 + (3*i+2)*delta(i,j)\n",
    "\n"
   ],
   "id": "98f93efa5b6ef3b0"
  },
  {
   "metadata": {
    "ExecuteTime": {
     "end_time": "2024-05-17T05:06:34.225521Z",
     "start_time": "2024-05-17T05:06:34.219432Z"
    }
   },
   "cell_type": "code",
   "source": [
    "class forced(iterative_solver.Problem):\n",
    "    def residual(self, parameters, residual):\n",
    "        for i in range(len(residual)):\n",
    "            residual[i] = -1 + (3 * i + 2) * parameters[i] + np.sum(parameters)\n",
    "        e = 0.5 * np.dot(residual, parameters) - 0.5 * np.sum(parameters)\n",
    "        return e\n",
    "\n",
    "    def diagonals(self, diagonals):\n",
    "        for i in range(len(diagonals)):\n",
    "            diagonals[i] = 3 * i + 2\n",
    "        return True"
   ],
   "id": "9be3fd1d4a663f42",
   "outputs": [],
   "execution_count": 2
  },
  {
   "metadata": {
    "ExecuteTime": {
     "end_time": "2024-05-17T05:06:34.435362Z",
     "start_time": "2024-05-17T05:06:34.228299Z"
    }
   },
   "cell_type": "code",
   "source": [
    "problem = forced()\n",
    "n = 5\n",
    "parameters = np.zeros(n)\n",
    "parameters[0] = 1\n",
    "residual = np.zeros(n)\n",
    "\n",
    "solver = iterative_solver.Optimize(parameters.size, verbosity=2)\n",
    "solver.solve(parameters, residual, problem)\n",
    "solver.solution([0], parameters, residual)"
   ],
   "id": "a53697229c71746d",
   "outputs": [
    {
     "name": "stdout",
     "output_type": "stream",
     "text": [
      "Converged log10(|residual|)= [0.30103]\n",
      "Objective function value 0.5\n",
      "Iteration 1 log10(|residual|)= [0.12493874]\n",
      "Objective function value -0.16666666666666666\n",
      "Iteration 2 log10(|residual|)= [-0.61442203]\n",
      "Objective function value -0.2460653863740284\n",
      "Iteration 3 log10(|residual|)= [-2.25381991]\n",
      "Objective function value -0.24840507449757013\n",
      "Iteration 4 log10(|residual|)= [-3.1973047]\n",
      "Objective function value -0.24840708992272847\n",
      "Iteration 5 log10(|residual|)= [-4.86103475]\n",
      "Objective function value -0.24840712300966977\n",
      "Iteration 6 log10(|residual|)= [-5.88663529]\n",
      "Objective function value -0.2484071230190297\n",
      "Iteration 7 log10(|residual|)= [-7.87675748]\n",
      "Objective function value -0.24840712301911452\n",
      "Iteration 8 log10(|residual|)= [-8.98973179]\n",
      "Objective function value -0.24840712301911452\n",
      "Iteration 9 log10(|residual|)= [-10.10351102]\n",
      "Objective function value -0.24840712301911452\n"
     ]
    },
    {
     "name": "stderr",
     "output_type": "stream",
     "text": [
      "[pjk2022.local:60002] shmem: mmap: an error occurred while determining whether or not /var/folders/2v/xbgp75_9785319ghcgb4zr4r0000gr/T//ompi.pjk2022.504/jf.0/896073728/sm_segment.pjk2022.504.35690000.0 could be created.\n"
     ]
    },
    {
     "data": {
      "text/plain": [
       "-0.24840712301911452"
      ]
     },
     "execution_count": 3,
     "metadata": {},
     "output_type": "execute_result"
    }
   ],
   "execution_count": 3
  },
  {
   "metadata": {
    "ExecuteTime": {
     "end_time": "2024-05-17T05:06:34.439091Z",
     "start_time": "2024-05-17T05:06:34.436555Z"
    }
   },
   "cell_type": "code",
   "source": [
    "e = problem.residual(parameters, residual)\n",
    "print(parameters)\n",
    "print(residual)\n",
    "print(e)"
   ],
   "id": "850a5b693733ecb7",
   "outputs": [
    {
     "name": "stdout",
     "output_type": "stream",
     "text": [
      "[0.25159288 0.10063715 0.06289822 0.04574416 0.03594184]\n",
      "[-5.55111512e-17  1.66255898e-13  6.99634795e-12 -5.32472400e-11\n",
      "  5.76552694e-11]\n",
      "-0.24840712301911452\n"
     ]
    }
   ],
   "execution_count": 4
  }
 ],
 "metadata": {
  "kernelspec": {
   "display_name": "Python 3",
   "language": "python",
   "name": "python3"
  },
  "language_info": {
   "codemirror_mode": {
    "name": "ipython",
    "version": 2
   },
   "file_extension": ".py",
   "mimetype": "text/x-python",
   "name": "python",
   "nbconvert_exporter": "python",
   "pygments_lexer": "ipython2",
   "version": "2.7.6"
  }
 },
 "nbformat": 4,
 "nbformat_minor": 5
}
